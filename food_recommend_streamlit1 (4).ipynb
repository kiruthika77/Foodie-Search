{
  "cells": [
    {
      "cell_type": "code",
      "execution_count": null,
      "metadata": {
        "colab": {
          "base_uri": "https://localhost:8080/"
        },
        "id": "Jn9ATKTt4pC6",
        "outputId": "6925405c-88ed-4885-8fed-05635430c927"
      },
      "outputs": [
        {
          "name": "stdout",
          "output_type": "stream",
          "text": [
            "\u001b[2K     \u001b[90m━━━━━━━━━━━━━━━━━━━━━━━━━━━━━━━━━━━━━━━━\u001b[0m \u001b[32m8.1/8.1 MB\u001b[0m \u001b[31m16.5 MB/s\u001b[0m eta \u001b[36m0:00:00\u001b[0m\n",
            "\u001b[2K     \u001b[90m━━━━━━━━━━━━━━━━━━━━━━━━━━━━━━━━━━━━━━━━\u001b[0m \u001b[32m53.0/53.0 kB\u001b[0m \u001b[31m4.7 MB/s\u001b[0m eta \u001b[36m0:00:00\u001b[0m\n",
            "\u001b[2K     \u001b[90m━━━━━━━━━━━━━━━━━━━━━━━━━━━━━━━━━━━━━━━━\u001b[0m \u001b[32m195.4/195.4 kB\u001b[0m \u001b[31m5.4 MB/s\u001b[0m eta \u001b[36m0:00:00\u001b[0m\n",
            "\u001b[2K     \u001b[90m━━━━━━━━━━━━━━━━━━━━━━━━━━━━━━━━━━━━━━━━\u001b[0m \u001b[32m4.8/4.8 MB\u001b[0m \u001b[31m18.4 MB/s\u001b[0m eta \u001b[36m0:00:00\u001b[0m\n",
            "\u001b[2K     \u001b[90m━━━━━━━━━━━━━━━━━━━━━━━━━━━━━━━━━━━━━━━━\u001b[0m \u001b[32m83.0/83.0 kB\u001b[0m \u001b[31m6.3 MB/s\u001b[0m eta \u001b[36m0:00:00\u001b[0m\n",
            "\u001b[2K     \u001b[90m━━━━━━━━━━━━━━━━━━━━━━━━━━━━━━━━━━━━━━━━\u001b[0m \u001b[32m62.7/62.7 kB\u001b[0m \u001b[31m6.5 MB/s\u001b[0m eta \u001b[36m0:00:00\u001b[0m\n",
            "\u001b[?25h"
          ]
        }
      ],
      "source": [
        "!pip install -q streamlit"
      ]
    },
    {
      "cell_type": "code",
      "execution_count": null,
      "metadata": {
        "colab": {
          "base_uri": "https://localhost:8080/"
        },
        "id": "eAlR8JXYOhjl",
        "outputId": "ecfdd9ba-dff3-4493-835e-4d5b1b157458"
      },
      "outputs": [
        {
          "name": "stdout",
          "output_type": "stream",
          "text": [
            "Mounted at /content/drive\n"
          ]
        }
      ],
      "source": [
        "from google.colab import drive\n",
        "drive.mount('/content/drive')"
      ]
    },
    {
      "cell_type": "code",
      "execution_count": null,
      "metadata": {
        "colab": {
          "base_uri": "https://localhost:8080/"
        },
        "id": "pR6mtUSkWhyR",
        "outputId": "5a46c57b-8d19-43e2-8e7b-171cfb69644d"
      },
      "outputs": [
        {
          "name": "stdout",
          "output_type": "stream",
          "text": [
            "\u001b[K\u001b[?25h\u001b[37;40mnpm\u001b[0m \u001b[0m\u001b[30;43mWARN\u001b[0m \u001b[0m\u001b[35msaveError\u001b[0m ENOENT: no such file or directory, open '/content/package.json'\n",
            "\u001b[0m\u001b[37;40mnpm\u001b[0m \u001b[0m\u001b[34;40mnotice\u001b[0m\u001b[35m\u001b[0m created a lockfile as package-lock.json. You should commit this file.\n",
            "\u001b[0m\u001b[37;40mnpm\u001b[0m \u001b[0m\u001b[30;43mWARN\u001b[0m \u001b[0m\u001b[35menoent\u001b[0m ENOENT: no such file or directory, open '/content/package.json'\n",
            "\u001b[0m\u001b[37;40mnpm\u001b[0m \u001b[0m\u001b[30;43mWARN\u001b[0m\u001b[35m\u001b[0m content No description\n",
            "\u001b[0m\u001b[37;40mnpm\u001b[0m \u001b[0m\u001b[30;43mWARN\u001b[0m\u001b[35m\u001b[0m content No repository field.\n",
            "\u001b[0m\u001b[37;40mnpm\u001b[0m \u001b[0m\u001b[30;43mWARN\u001b[0m\u001b[35m\u001b[0m content No README data\n",
            "\u001b[0m\u001b[37;40mnpm\u001b[0m \u001b[0m\u001b[30;43mWARN\u001b[0m\u001b[35m\u001b[0m content No license field.\n",
            "\u001b[0m\n",
            "+ localtunnel@2.0.2\n",
            "added 22 packages from 22 contributors and audited 22 packages in 1.665s\n",
            "\n",
            "3 packages are looking for funding\n",
            "  run `npm fund` for details\n",
            "\n",
            "found 1 \u001b[93mmoderate\u001b[0m severity vulnerability\n",
            "  run `npm audit fix` to fix them, or `npm audit` for details\n",
            "\u001b[K\u001b[?25h"
          ]
        }
      ],
      "source": [
        "!npm install localtunnel\n"
      ]
    },
    {
      "cell_type": "code",
      "execution_count": null,
      "metadata": {
        "colab": {
          "base_uri": "https://localhost:8080/"
        },
        "id": "h9_zTEQW6ALf",
        "outputId": "8ff3b762-5a49-4c7f-b5a6-ec1e33a182d6"
      },
      "outputs": [
        {
          "name": "stdout",
          "output_type": "stream",
          "text": [
            "Writing app.py\n"
          ]
        }
      ],
      "source": [
        "%%writefile app.py\n",
        "import streamlit as st\n",
        "import pandas as pd\n",
        "import numpy as np\n",
        "from sklearn import preprocessing\n",
        "import matplotlib.pyplot as plt\n",
        "import seaborn as sns\n",
        "sns.set()\n",
        "# Recommender System Imports\n",
        "# Content-Based Filtering\n",
        "from sklearn.feature_extraction.text import TfidfVectorizer\n",
        "from sklearn.metrics.pairwise import linear_kernel\n",
        "from sklearn.feature_extraction.text import CountVectorizer\n",
        "from sklearn.metrics.pairwise import cosine_similarity\n",
        "# Collaborative-Based Filtering\n",
        "from scipy.sparse import csr_matrix\n",
        "from sklearn.neighbors import NearestNeighbors\n",
        "# To work with text data\n",
        "import re\n",
        "import string\n",
        "import pandas as pd\n",
        "df = pd.read_csv('1662574418893344.csv')\n",
        "unique_dishes = df['Name'].unique()\n",
        "num_dishes = len(unique_dishes)\n",
        "unique_c_types = df['C_Type'].unique()\n",
        "unique_veg_non = df['Veg_Non'].unique()\n",
        "num_rows = len(df)\n",
        "df_shape = df.shape\n",
        "df_info = df.info()\n",
        "def text_cleaning(text):\n",
        "      cleaned_text = \"\".join([char for char in text if char not in string.punctuation])\n",
        "      return cleaned_text\n",
        "df['Describe_cleaned'] = df['Describe'].apply(text_cleaning)\n",
        "num_duplicates = df.duplicated().sum()\n",
        "null_values = df.isnull().sum()\n",
        "df_description = df.describe()\n",
        "indices = pd.Series(df.index, index=df['Name']).drop_duplicates()\n",
        "def get_recommendations(title):\n",
        "    # Check if the input title exists in the dataset\n",
        "    if title not in df['Name'].values:\n",
        "        return \"Input not found in the dataset! Please enter a valid food title.\"\n",
        "\n",
        "    # Create a TfidfVectorizer object with English stop words\n",
        "    tfidf = TfidfVectorizer(stop_words='english')\n",
        "\n",
        "    # Fit and transform the 'Describe' column of the DataFrame\n",
        "    tfidf_matrix = tfidf.fit_transform(df['Describe_cleaned'])\n",
        "\n",
        "    # Compute the cosine similarity matrix using the linear_kernel function\n",
        "    cosine_sim = linear_kernel(tfidf_matrix, tfidf_matrix)\n",
        "\n",
        "    # Get the index of the input title\n",
        "    idx = df[df['Name'] == title].index[0]\n",
        "\n",
        "    # Get the similarity scores for all food\n",
        "    sim_scores = list(enumerate(cosine_sim[idx]))\n",
        "\n",
        "    # Sort the food based on the similarity scores\n",
        "    sim_scores = sorted(sim_scores, key=lambda x: x[1], reverse=True)\n",
        "\n",
        "    # Get the indices of the 5 most similar food\n",
        "    sim_scores = sim_scores[1:6]\n",
        "\n",
        "    # Get the indices of the food\n",
        "    food_indices = [i[0] for i in sim_scores]\n",
        "\n",
        "    # Return the 5 most similar food\n",
        "    recommendations1 = df.iloc[food_indices].drop(columns=['Food_ID'])\n",
        "    return recommendations1\n",
        "\n",
        "features = ['C_Type', 'Veg_Non', 'Describe']\n",
        "def create_soup(x):\n",
        "    return x['C_Type'] + \" \" + x['Veg_Non'] + \" \" + x['Describe']\n",
        "df['soup'] = df.apply(create_soup, axis=1)\n",
        "count = CountVectorizer(stop_words='english')\n",
        "count_matrix = count.fit_transform(df['soup'])\n",
        "count_matrix_shape = count_matrix.shape\n",
        "cosine_sim2 = cosine_similarity(count_matrix, count_matrix)\n",
        "df = df.reset_index(drop=True)\n",
        "indices = pd.Series(df.index, index=df['Name'])\n",
        "#recommendations = get_recommendations('tricolour salad', cosine_sim2)\n",
        "\n",
        "#approach 2\n",
        "rating = pd.read_csv('ratings.csv')\n",
        "null_values = rating.isnull().sum()\n",
        "rating = rating[:511]\n",
        "rating.isnull().sum()\n",
        "food_rating = rating.groupby(by = 'Food_ID').count()\n",
        "food_rating = food_rating['Rating'].reset_index().rename(columns={'Rating':'Rating_count'})\n",
        "user_rating = rating.groupby(by='User_ID').count()\n",
        "user_rating = user_rating['Rating'].reset_index().rename(columns={'Rating':'Rating_count'})\n",
        "rating_matrix = rating.pivot_table(index='Food_ID',columns='User_ID',values='Rating').fillna(0)\n",
        "csr_rating_matrix =  csr_matrix(rating_matrix.values)\n",
        "recommender = NearestNeighbors(metric='cosine')\n",
        "recommender.fit(csr_rating_matrix)\n",
        "def Get_Recommendations(title):\n",
        "    user= df[df['Name']==title]\n",
        "    if len(user) == 0:\n",
        "        return \"Invalid input! Please enter a valid food title.\"\n",
        "    food_id = user['Food_ID'].values[0]\n",
        "\n",
        "    if food_id not in rating_matrix.index:\n",
        "        return \"Rating data not available for this food. Unable to provide recommendations.\"\n",
        "    user_index = np.where(rating_matrix.index==int(user['Food_ID']))[0][0]\n",
        "    user_ratings = rating_matrix.iloc[user_index]\n",
        "    reshaped = user_ratings.values.reshape(1,-1)\n",
        "    distances, indices = recommender.kneighbors(reshaped,n_neighbors=16)\n",
        "    nearest_neighbors_indices = rating_matrix.iloc[indices[0]].index[1:]\n",
        "    nearest_neighbors = pd.DataFrame({'Food_ID': nearest_neighbors_indices})\n",
        "    result = pd.merge(nearest_neighbors,df,on='Food_ID',how='left')\n",
        "    result = result.drop(columns=['Food_ID'])\n",
        "    return result.head()\n",
        "#Get_Recommendations('tricolour salad')\n",
        "\n",
        "def main():\n",
        "    st.title(\"FoodieMatch\")\n",
        "\n",
        "    # Get user inputs\n",
        "    input1 = st.text_input(\"Find Your Flavor\")\n",
        "    input2 = st.text_input(\"Explore Similar Tastes\")\n",
        "    # Check if the user inputs are valid and present in the dataset\n",
        "    if input1.strip() == \"\" or input2.strip() == \"\":\n",
        "        st.error(\"Explore dishes from different cuisines and enter your choice.\")\n",
        "    else:\n",
        "        if input1 not in df['Name'].values:\n",
        "          st.error(\"Invalid input! Please refer to the cuisines and try again.\")\n",
        "        if input2 not in df['Name'].values:\n",
        "          st.error(\"Invalid input! Please refer to the cuisines and try again.\")\n",
        "    # Process inputs and get recommendations\n",
        "    if st.button(\"Get Recommendations\"):\n",
        "        recommendations_approach1 = get_recommendations(input1)\n",
        "        recommendations_approach2 = Get_Recommendations(input2)\n",
        "\n",
        "        # Display recommendations\n",
        "        st.write(\"Approach 1 Recommendations:\", recommendations_approach1)\n",
        "        st.write(\"Approach 2 Recommendations:\", recommendations_approach2)\n",
        "    unique_c_types = df['C_Type'].unique()\n",
        "    unique_veg_non = ['All'] + df['Veg_Non'].unique().tolist()\n",
        "\n",
        "    # Create a sidebar section for C_Type buttons\n",
        "    st.sidebar.title(\"Filters\")\n",
        "    selected_cuisine = st.sidebar.radio(\"Select Cuisine Type\", unique_c_types)\n",
        "    selected_veg_non = st.sidebar.selectbox(\"Select Veg/Non-Veg\", unique_veg_non)\n",
        "\n",
        "    # Filter foods based on selected criteria\n",
        "    if selected_veg_non == \"All\":\n",
        "      filtered_foods = df[df['C_Type'] == selected_cuisine]['Name']\n",
        "    else:\n",
        "      filtered_foods = df[(df['C_Type'] == selected_cuisine) & (df['Veg_Non'] == selected_veg_non)]['Name']\n",
        "\n",
        "\n",
        "    # Display filtered foods\n",
        "    st.header(f\"Foods in {selected_cuisine} Cuisine\")\n",
        "    st.write(filtered_foods.drop(columns=['Food_ID']))\n",
        "\n",
        "if __name__ == \"__main__\":\n",
        "    main()"
      ]
    },
    {
      "cell_type": "code",
      "execution_count": null,
      "metadata": {
        "colab": {
          "base_uri": "https://localhost:8080/"
        },
        "id": "2zSDJP4F6PYq",
        "outputId": "bfc4e4d4-4d7d-4d85-a90a-578464ae2a74"
      },
      "outputs": [
        {
          "name": "stdout",
          "output_type": "stream",
          "text": [
            "34.141.180.128\n"
          ]
        }
      ],
      "source": [
        "!streamlit run /content/app.py &>/content/logs.txt & curl ipv4.icanhazip.com"
      ]
    },
    {
      "cell_type": "code",
      "execution_count": null,
      "metadata": {
        "colab": {
          "background_save": true,
          "base_uri": "https://localhost:8080/"
        },
        "id": "NEOaTGH7zRrf",
        "outputId": "6b114505-44a6-4030-9154-b801994c3103"
      },
      "outputs": [
        {
          "name": "stdout",
          "output_type": "stream",
          "text": [
            "\u001b[K\u001b[?25hnpx: installed 22 in 1.649s\n",
            "your url is: https://wet-clocks-tan.loca.lt\n"
          ]
        }
      ],
      "source": [
        "!npx localtunnel --port 8501"
      ]
    }
  ],
  "metadata": {
    "colab": {
      "provenance": []
    },
    "kernelspec": {
      "display_name": "Python 3",
      "name": "python3"
    },
    "language_info": {
      "name": "python"
    }
  },
  "nbformat": 4,
  "nbformat_minor": 0
}